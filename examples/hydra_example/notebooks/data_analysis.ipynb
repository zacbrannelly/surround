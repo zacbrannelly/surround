{
 "cells": [
  {
   "cell_type": "code",
   "execution_count": 1,
   "metadata": {},
   "outputs": [],
   "source": [
    "# Magic commands\n",
    "%load_ext autoreload\n",
    "%autoreload 2\n",
    "\n",
    "# Set up paths to access project module\n",
    "import sys\n",
    "import os\n",
    "sys.path.append('/app')\n",
    "os.chdir('/app')"
   ]
  },
  {
   "cell_type": "code",
   "execution_count": 2,
   "metadata": {},
   "outputs": [],
   "source": [
    "# Package imports\n",
    "from surround import load_config\n",
    "from testing.file_system_runner import FileSystemRunner\n",
    "from testing.config import Config\n",
    "\n",
    "config = load_config(name=\"config\", config_class=Config)\n",
    "data = FileSystemRunner().load_data(None, config)"
   ]
  }
 ],
 "metadata": {
  "kernelspec": {
   "display_name": "Python 3",
   "language": "python",
   "name": "python3"
  },
  "language_info": {
   "codemirror_mode": {
    "name": "ipython",
    "version": 3
   },
   "file_extension": ".py",
   "mimetype": "text/x-python",
   "name": "python",
   "nbconvert_exporter": "python",
   "pygments_lexer": "ipython3",
   "version": "3.6.5"
  }
 },
 "nbformat": 4,
 "nbformat_minor": 4
}